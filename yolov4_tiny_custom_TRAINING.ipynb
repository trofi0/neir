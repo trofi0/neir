{
  "nbformat": 4,
  "nbformat_minor": 0,
  "metadata": {
    "colab": {
      "provenance": [],
      "collapsed_sections": [],
      "machine_shape": "hm"
    },
    "kernelspec": {
      "name": "python3",
      "display_name": "Python 3"
    },
    "accelerator": "GPU"
  },
  "cells": [
    {
      "cell_type": "markdown",
      "metadata": {
        "id": "q2xRNY0gJVLa"
      },
      "source": [
        "# **1) Clone `darknet` git repository onto the Colab VM** "
      ]
    },
    {
      "cell_type": "code",
      "metadata": {
        "id": "kShUEMv4JVLc"
      },
      "source": [
        "!git clone https://github.com/AlexeyAB/darknet"
      ],
      "execution_count": null,
      "outputs": []
    },
    {
      "cell_type": "markdown",
      "metadata": {
        "id": "tzl9NXKBPB2v"
      },
      "source": [
        "### **obj.data**"
      ]
    },
    {
      "cell_type": "markdown",
      "metadata": {
        "id": "4sMAuHQiPB2-"
      },
      "source": [
        "# **2) Mount drive and link your folder**"
      ]
    },
    {
      "cell_type": "code",
      "metadata": {
        "id": "oALy-2wQPB2-"
      },
      "source": [
        "#mount drive\n",
        "%cd ..\n",
        "from google.colab import drive\n",
        "drive.mount('/content/gdrive')\n",
        "\n",
        "# this creates a symbolic link so that now the path /content/gdrive/My\\ Drive/ is equal to /mydrive\n",
        "!ln -s /content/gdrive/My\\ Drive/ /mydrive\n",
        "\n",
        "# list contents in yolov4-tiny folder in your drive\n",
        "!ls /mydrive/yolov4-tiny"
      ],
      "execution_count": null,
      "outputs": []
    },
    {
      "cell_type": "markdown",
      "metadata": {
        "id": "fJoL2xPqJ_5I"
      },
      "source": [
        "# **3) Make changes in the `makefile` to enable OPENCV and GPU**"
      ]
    },
    {
      "cell_type": "code",
      "metadata": {
        "id": "n_puvebJJ_5J"
      },
      "source": [
        "# change makefile to have GPU and OPENCV enabled\n",
        "# also set CUDNN, CUDNN_HALF and LIBSO to 1\n",
        "\n",
        "%cd /content/darknet/\n",
        "!sed -i 's/OPENCV=0/OPENCV=1/' Makefile\n",
        "!sed -i 's/GPU=0/GPU=1/' Makefile\n",
        "!sed -i 's/CUDNN=0/CUDNN=1/' Makefile\n",
        "!sed -i 's/CUDNN_HALF=0/CUDNN_HALF=1/' Makefile\n",
        "!sed -i 's/LIBSO=0/LIBSO=1/' Makefile"
      ],
      "execution_count": null,
      "outputs": []
    },
    {
      "cell_type": "markdown",
      "metadata": {
        "id": "GE_sGR2bJ_5J"
      },
      "source": [
        "# **4) Run `make` command to build darknet**"
      ]
    },
    {
      "cell_type": "code",
      "metadata": {
        "id": "lWQWmvq_J_5J"
      },
      "source": [
        "# build darknet \n",
        "!make"
      ],
      "execution_count": null,
      "outputs": []
    },
    {
      "cell_type": "markdown",
      "metadata": {
        "id": "kHazNXGSJ_5K"
      },
      "source": [
        "# **5) Copy files from your drive to the darknet directory**"
      ]
    },
    {
      "cell_type": "code",
      "metadata": {
        "id": "6aK5ur5KsXOr"
      },
      "source": [
        "# Clean the data and cfg folders first except the labels folder in data which is required\n",
        "\n",
        "%cd data/\n",
        "!find -maxdepth 1 -type f -exec rm -rf {} \\;\n",
        "%cd ..\n",
        "\n",
        "%rm -rf cfg/\n",
        "%mkdir cfg"
      ],
      "execution_count": null,
      "outputs": []
    },
    {
      "cell_type": "code",
      "metadata": {
        "id": "GDMYvZFJJ_5K"
      },
      "source": [
        "#copy the datasets zip file to the root darknet folder\n",
        "!cp /mydrive/yolov4-tiny/obj.zip ../\n",
        "\n",
        "# unzip the datasets and their contents so that they are now in /darknet/data/ folder\n",
        "!unzip ../obj.zip -d data/"
      ],
      "execution_count": null,
      "outputs": []
    },
    {
      "cell_type": "code",
      "metadata": {
        "id": "C_8ijd3DJ_5L"
      },
      "source": [
        "#copy the custom cfg file from the drive to the darknet/cfg folder\n",
        "!cp /mydrive/yolov4-tiny/yolov4-tiny-custom.cfg ./cfg"
      ],
      "execution_count": null,
      "outputs": []
    },
    {
      "cell_type": "code",
      "metadata": {
        "id": "ddfOsTymJ_5L"
      },
      "source": [
        "# copy the obj.names and obj.data files so that they are now in /darknet/data/ folder\n",
        "!cp /mydrive/yolov4-tiny/obj.names ./data\n",
        "!cp /mydrive/yolov4-tiny/obj.data  ./data"
      ],
      "execution_count": null,
      "outputs": []
    },
    {
      "cell_type": "code",
      "metadata": {
        "id": "SDRwwKnsJ_5L"
      },
      "source": [
        "#copy the process.py file from the drive to the darknet directory\n",
        "!cp /mydrive/yolov4-tiny/process.py ./"
      ],
      "execution_count": null,
      "outputs": []
    },
    {
      "cell_type": "markdown",
      "metadata": {
        "id": "pgOJwRmkPB3E"
      },
      "source": [
        "# **6) Run the *`process.py`* python script to create the *`train.txt`* & *`test.txt`* files inside the *data* folder**"
      ]
    },
    {
      "cell_type": "code",
      "metadata": {
        "id": "ACGu8EZIPB3E"
      },
      "source": [
        "# run process.py ( this creates the train.txt and test.txt files in our darknet/data folder )\n",
        "!python process.py\n",
        "\n",
        "# list the contents of data folder to check if the train.txt and test.txt files have been created \n",
        "!ls data/"
      ],
      "execution_count": null,
      "outputs": []
    },
    {
      "cell_type": "markdown",
      "metadata": {
        "id": "-dSOghlbPB3E"
      },
      "source": [
        "# **7) Download the pre-trained *`yolov4-tiny`* weights**"
      ]
    },
    {
      "cell_type": "code",
      "metadata": {
        "id": "CLZ0EST5PB3E"
      },
      "source": [
        "# Download the yolov4-tiny pre-trained weights file\n",
        "!wget https://github.com/AlexeyAB/darknet/releases/download/darknet_yolo_v4_pre/yolov4-tiny.conv.29"
      ],
      "execution_count": null,
      "outputs": []
    },
    {
      "cell_type": "markdown",
      "metadata": {
        "id": "vZpOV-xYPB3F"
      },
      "source": [
        "# **8) Training**"
      ]
    },
    {
      "cell_type": "markdown",
      "metadata": {
        "id": "d4roT81BPB3F"
      },
      "source": [
        "## **Train your custom detector** \n",
        "\n",
        "For best results, you should stop the training when the average loss is less than 0.05 if possible or at least constantly below 0.3, else train the model until the average loss does not show any significant change for a while."
      ]
    },
    {
      "cell_type": "code",
      "metadata": {
        "id": "raDMjwwhPB3F"
      },
      "source": [
        "# train your custom detector! (uncomment %%capture below if you run into memory issues or your Colab is crashing)\n",
        "# %%capture\n",
        "\n",
        "!./darknet detector train data/obj.data cfg/yolov4-tiny-custom.cfg yolov4-tiny.conv.29 -dont_show -map"
      ],
      "execution_count": null,
      "outputs": []
    },
    {
      "cell_type": "code",
      "metadata": {
        "id": "DzhFMg08PB3G"
      },
      "source": [
        "# This stops 'Run all' at this cell by causing an error\n",
        "assert False"
      ],
      "execution_count": null,
      "outputs": []
    },
    {
      "cell_type": "markdown",
      "metadata": {
        "id": "i-YOus-FPB3G"
      },
      "source": [
        "## **To restart your training (In case the training does not finish and you get disconnected)**\n",
        "\n",
        "If you get disconnected or lose your session, you don't have to start training your model from scratch again. You can restart training from where you left off. Use the weights that were saved last. The weights are saved every 100 iterations as ***yolov4-tiny-custom_last.weights*** in the ***yolov4-tiny/training*** folder on your drive. (The path we gave as backup in \"obj.data\" file). \n",
        "\n",
        "**Run steps 1,4,5,6,7,8 to restart training from the last saved checkpoint and run the following command:**\n"
      ]
    },
    {
      "cell_type": "code",
      "metadata": {
        "id": "ar7jKR-Jmq4Y"
      },
      "source": [
        "#to restart training your custom detector where you left off(using the weights that were saved last)\n",
        "\n",
        "!./darknet detector train data/obj.data cfg/yolov4-tiny-custom.cfg /mydrive/yolov4-tiny/training/yolov4-tiny-custom_last.weights -dont_show -map"
      ],
      "execution_count": null,
      "outputs": []
    }
  ]
}